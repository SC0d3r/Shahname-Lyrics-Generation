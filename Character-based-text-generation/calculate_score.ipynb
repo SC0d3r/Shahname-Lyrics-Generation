{
 "cells": [
  {
   "cell_type": "code",
   "execution_count": 2,
   "source": [
    "import tensorflow as tf\n",
    "import numpy as np\n",
    "import os\n",
    "from nltk.translate.bleu_score import sentence_bleu\n"
   ],
   "outputs": [
    {
     "output_type": "stream",
     "name": "stderr",
     "text": [
      "2021-07-29 18:42:04.705031: I tensorflow/stream_executor/platform/default/dso_loader.cc:53] Successfully opened dynamic library libcudart.so.11.0\n"
     ]
    }
   ],
   "metadata": {}
  },
  {
   "cell_type": "code",
   "execution_count": 7,
   "source": [
    "# Example\n",
    "\n",
    "# reference should be the actual lyric\n",
    "# candidate should be the network generated characters\n",
    "\n",
    "reference = [[\"برفتند\", \"هر\", \"دو\", \"به\", \"نزدیک\", \"اوی\"]]\n",
    "candidate = [\"برفتند\", \"هر\", \"دو\", \"به\", \"اوی\"]\n",
    "score = sentence_bleu(reference,candidate)\n",
    "\n",
    "print(score)\n"
   ],
   "outputs": [
    {
     "output_type": "stream",
     "name": "stdout",
     "text": [
      "0.5789300674674098\n"
     ]
    }
   ],
   "metadata": {}
  },
  {
   "cell_type": "markdown",
   "source": [
    "## BLEU Score for LSTM `Character` based text generation"
   ],
   "metadata": {}
  },
  {
   "cell_type": "markdown",
   "source": [
    "## BLEU Score for LSTM `Word` based text generation"
   ],
   "metadata": {}
  }
 ],
 "metadata": {
  "orig_nbformat": 4,
  "language_info": {
   "name": "python",
   "version": "3.8.10",
   "mimetype": "text/x-python",
   "codemirror_mode": {
    "name": "ipython",
    "version": 3
   },
   "pygments_lexer": "ipython3",
   "nbconvert_exporter": "python",
   "file_extension": ".py"
  },
  "kernelspec": {
   "name": "python3",
   "display_name": "Python 3.8.10 64-bit"
  },
  "interpreter": {
   "hash": "916dbcbb3f70747c44a77c7bcd40155683ae19c65e1c03b4aa3499c5328201f1"
  }
 },
 "nbformat": 4,
 "nbformat_minor": 2
}