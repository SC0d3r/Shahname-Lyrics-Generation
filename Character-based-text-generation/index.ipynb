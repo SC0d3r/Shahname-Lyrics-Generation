{
 "cells": [
  {
   "cell_type": "code",
   "execution_count": 1,
   "source": [
    "import tensorflow as tf\n",
    "from tensorflow.keras.layers.experimental import preprocessing\n",
    "import numpy as np\n",
    "import math\n",
    "import os\n",
    "import time"
   ],
   "outputs": [
    {
     "output_type": "stream",
     "name": "stderr",
     "text": [
      "2021-07-29 18:44:29.301748: I tensorflow/stream_executor/platform/default/dso_loader.cc:53] Successfully opened dynamic library libcudart.so.11.0\n"
     ]
    }
   ],
   "metadata": {}
  },
  {
   "cell_type": "code",
   "execution_count": 2,
   "source": [
    "# get all train texts\n",
    "train_texts = \"\"\n",
    "files = os.listdir(\"../shahname/train\")\n",
    "for path in files:\n",
    "\ttrain_texts += open(\"../shahname/train/\" + path, 'rb').read().decode(encoding='utf-8')"
   ],
   "outputs": [],
   "metadata": {}
  },
  {
   "cell_type": "code",
   "execution_count": 26,
   "source": [
    "file_text = open(\"../allShahnameWords.txt\", 'rb').read().decode(encoding = \"utf-8\")\n",
    "vocab = sorted(set(file_text))\n",
    "vocab.append(\" \")\n",
    "\n",
    "ids_from_chars = preprocessing.StringLookup(\n",
    "    vocabulary=list(vocab), mask_token=None)"
   ],
   "outputs": [],
   "metadata": {}
  },
  {
   "cell_type": "code",
   "execution_count": null,
   "source": [
    "vocab.append(\" \")\n",
    "vocab"
   ],
   "outputs": [],
   "metadata": {}
  },
  {
   "cell_type": "code",
   "execution_count": 26,
   "source": [
    "# here we can get the chars of text like 'sdfsadf' and turn it into ids\n",
    "# chars = tf.strings.unicode_split(train_texts, input_encoding='UTF-8')\n",
    "# ids = ids_from_chars(chars)\t"
   ],
   "outputs": [
    {
     "output_type": "stream",
     "name": "stderr",
     "text": [
      "2021-07-28 05:04:47.670531: W tensorflow/core/framework/cpu_allocator_impl.cc:80] Allocation of 19409176 exceeds 10% of free system memory.\n",
      "2021-07-28 05:04:48.068214: W tensorflow/core/framework/cpu_allocator_impl.cc:80] Allocation of 58227504 exceeds 10% of free system memory.\n",
      "2021-07-28 05:04:48.370862: W tensorflow/core/framework/cpu_allocator_impl.cc:80] Allocation of 19409168 exceeds 10% of free system memory.\n"
     ]
    }
   ],
   "metadata": {}
  },
  {
   "cell_type": "code",
   "execution_count": 28,
   "source": [
    "# turn ids into human readable text\n",
    "\n",
    "chars_from_ids = tf.keras.layers.experimental.preprocessing.StringLookup(\n",
    "    vocabulary=ids_from_chars.get_vocabulary(), invert=True, mask_token=None)\n",
    "\n",
    "def text_from_ids(ids):\n",
    "  return tf.strings.reduce_join(chars_from_ids(ids), axis=-1)\n"
   ],
   "outputs": [],
   "metadata": {}
  },
  {
   "cell_type": "code",
   "execution_count": 29,
   "source": [
    "all_ids = ids_from_chars(tf.strings.unicode_split(train_texts, 'UTF-8'))\n",
    "all_ids"
   ],
   "outputs": [
    {
     "output_type": "execute_result",
     "data": {
      "text/plain": [
       "<tf.Tensor: shape=(2426146,), dtype=int64, numpy=array([24, 43, 36, ..., 22, 20,  1])>"
      ]
     },
     "metadata": {},
     "execution_count": 29
    }
   ],
   "metadata": {}
  },
  {
   "cell_type": "code",
   "execution_count": 30,
   "source": [
    "ids_dataset = tf.data.Dataset.from_tensor_slices(all_ids)\n",
    "\n",
    "for ids in ids_dataset.take(10):\n",
    "    print(chars_from_ids(ids).numpy().decode('utf-8'))"
   ],
   "outputs": [
    {
     "output_type": "stream",
     "name": "stdout",
     "text": [
      "س\n",
      "ک\n",
      "ن\n",
      "د\n",
      "ر\n",
      " \n",
      "چ\n",
      "و\n",
      " \n",
      "ا\n"
     ]
    }
   ],
   "metadata": {}
  },
  {
   "cell_type": "code",
   "execution_count": 31,
   "source": [
    "seq_length = 100\n",
    "examples_per_epoch = len(train_texts)//(seq_length+1)"
   ],
   "outputs": [],
   "metadata": {}
  },
  {
   "cell_type": "code",
   "execution_count": 32,
   "source": [
    "sequences = ids_dataset.batch(seq_length+1, drop_remainder=True)\n",
    "\n",
    "for seq in sequences.take(1):\n",
    "  tmp = chars_from_ids(seq).numpy()\n",
    "  print(''.join([str(s, encoding='UTF-8') for s in tmp]))"
   ],
   "outputs": [
    {
     "output_type": "stream",
     "name": "stdout",
     "text": [
      "سکندر چو از کارش آگاه شد[UNK]که دارا به تخت افسر ماه شد\n",
      "سپه برگرفت از عراق و براند[UNK]به رومی همی نام یزدان \n"
     ]
    }
   ],
   "metadata": {}
  },
  {
   "cell_type": "code",
   "execution_count": 33,
   "source": [
    "for seq in sequences.take(5):\n",
    "  print(text_from_ids(seq).numpy().decode(\"utf-8\"))"
   ],
   "outputs": [
    {
     "output_type": "stream",
     "name": "stdout",
     "text": [
      "سکندر چو از کارش آگاه شد[UNK]که دارا به تخت افسر ماه شد\n",
      "سپه برگرفت از عراق و براند[UNK]به رومی همی نام یزدان \n",
      "بخواند\n",
      "سپه را میان و کرانه نبود[UNK]همان بخت دارا جوانه نبود\n",
      "پذیره شدن را بیاراست شاه[UNK]بیاورد ز اصطخر چندا\n",
      "ن سپاه\n",
      "که گفتی ستاره نتابد همی[UNK]فلک راه رفتن نیابد همی\n",
      "سپاه دو کشور کشیدند صف[UNK]همه نیزه و گرز و خنجر به\n",
      " کف\n",
      "برآمد چنان از دو لشکر خروش[UNK]که چرخ فلک را بدرید گوش\n",
      "چو دریا شد از خون گردان زمین[UNK]تن بی‌سران بد همه\n",
      " دشت کین\n",
      "پدر را نبد بر پسر جای مهر[UNK]بریشان نبخشید گردان سپهر\n",
      "سیم ره به دارا درآمد شکست[UNK]سکندر میان تاخت\n"
     ]
    }
   ],
   "metadata": {}
  },
  {
   "cell_type": "code",
   "execution_count": 34,
   "source": [
    "def split_input_target(sequence):\n",
    "    input_text = sequence[:-1]\n",
    "    target_text = sequence[1:]\n",
    "    return input_text, target_text\n",
    "\n",
    "\n",
    "dataset = sequences.map(split_input_target)"
   ],
   "outputs": [],
   "metadata": {}
  },
  {
   "cell_type": "code",
   "execution_count": 35,
   "source": [
    "for input_example, target_example in dataset.take(1):\n",
    "    print(\"Input :\", text_from_ids(input_example).numpy().decode(\"utf-8\"))\n",
    "    print(\"Target:\", text_from_ids(target_example).numpy().decode(\"utf-8\"))"
   ],
   "outputs": [
    {
     "output_type": "stream",
     "name": "stdout",
     "text": [
      "Input : سکندر چو از کارش آگاه شد[UNK]که دارا به تخت افسر ماه شد\n",
      "سپه برگرفت از عراق و براند[UNK]به رومی همی نام یزدان\n",
      "Target: کندر چو از کارش آگاه شد[UNK]که دارا به تخت افسر ماه شد\n",
      "سپه برگرفت از عراق و براند[UNK]به رومی همی نام یزدان \n"
     ]
    }
   ],
   "metadata": {}
  },
  {
   "cell_type": "code",
   "execution_count": 36,
   "source": [
    "# Batch size\n",
    "BATCH_SIZE = 64\n",
    "\n",
    "BUFFER_SIZE = 10000\n",
    "\n",
    "dataset = (\n",
    "    dataset\n",
    "    .shuffle(BUFFER_SIZE)\n",
    "    .batch(BATCH_SIZE, drop_remainder=True)\n",
    "    .prefetch(tf.data.experimental.AUTOTUNE))\n",
    "\n",
    "dataset"
   ],
   "outputs": [
    {
     "output_type": "execute_result",
     "data": {
      "text/plain": [
       "<PrefetchDataset shapes: ((64, 100), (64, 100)), types: (tf.int64, tf.int64)>"
      ]
     },
     "metadata": {},
     "execution_count": 36
    }
   ],
   "metadata": {}
  },
  {
   "cell_type": "code",
   "execution_count": 37,
   "source": [
    "# Model\n",
    "# Length of the vocabulary in chars\n",
    "vocab_size = len(vocab)\n",
    "\n",
    "# The embedding dimension\n",
    "embedding_dim = 256\n",
    "\n",
    "# Number of RNN units\n",
    "rnn_units = 1024\n",
    "\n",
    "class MyModel(tf.keras.Model):\n",
    "  def __init__(self, vocab_size, embedding_dim, rnn_units):\n",
    "    super().__init__(self)\n",
    "    self.embedding = tf.keras.layers.Embedding(vocab_size, embedding_dim)\n",
    "    self.gru = tf.keras.layers.LSTM(rnn_units,\n",
    "                                    #stateful=True \n",
    "                                   return_sequences=True,\n",
    "                                   return_state=True\n",
    "    )\n",
    "    self.dense = tf.keras.layers.Dense(vocab_size)\n",
    "\n",
    "  def call(self, inputs, states=None, return_state=False, training=False):\n",
    "    x = inputs\n",
    "    x = self.embedding(x, training=training)\n",
    "    if states is None:\n",
    "      h_state, c_state = self.gru.get_initial_state(x)\n",
    "    else:\n",
    "      h_state, c_state = states\n",
    "    #x, states = self.gru(x, initial_state=states, training=training)\n",
    "    x, h_state,c_state = self.gru(x, initial_state=[h_state,c_state], training=training)\n",
    "    x = self.dense(x, training=training)\n",
    "\n",
    "    if return_state:\n",
    "      return x, h_state, c_state\n",
    "    else:\n",
    "      return x"
   ],
   "outputs": [],
   "metadata": {}
  },
  {
   "cell_type": "code",
   "execution_count": 39,
   "source": [
    "model = MyModel(\n",
    "    # Be sure the vocabulary size matches the `StringLookup` layers.\n",
    "    vocab_size=len(ids_from_chars.get_vocabulary()),\n",
    "    embedding_dim=embedding_dim,\n",
    "    rnn_units=rnn_units)"
   ],
   "outputs": [],
   "metadata": {}
  },
  {
   "cell_type": "code",
   "execution_count": 40,
   "source": [
    "for input_example_batch, target_example_batch in dataset.take(1):\n",
    "    example_batch_predictions = model(input_example_batch)\n",
    "    print(example_batch_predictions.shape, \"# (batch_size, sequence_length, vocab_size)\")"
   ],
   "outputs": [
    {
     "output_type": "stream",
     "name": "stdout",
     "text": [
      "(64, 100, 48) # (batch_size, sequence_length, vocab_size)\n"
     ]
    }
   ],
   "metadata": {}
  },
  {
   "cell_type": "code",
   "execution_count": 41,
   "source": [
    "model.summary()"
   ],
   "outputs": [
    {
     "output_type": "stream",
     "name": "stdout",
     "text": [
      "Model: \"my_model_1\"\n",
      "_________________________________________________________________\n",
      "Layer (type)                 Output Shape              Param #   \n",
      "=================================================================\n",
      "embedding_1 (Embedding)      multiple                  12288     \n",
      "_________________________________________________________________\n",
      "lstm_1 (LSTM)                multiple                  5246976   \n",
      "_________________________________________________________________\n",
      "dense_1 (Dense)              multiple                  49200     \n",
      "=================================================================\n",
      "Total params: 5,308,464\n",
      "Trainable params: 5,308,464\n",
      "Non-trainable params: 0\n",
      "_________________________________________________________________\n"
     ]
    }
   ],
   "metadata": {}
  },
  {
   "cell_type": "code",
   "execution_count": 42,
   "source": [
    "# Befor training\n",
    "loss = tf.losses.SparseCategoricalCrossentropy(from_logits=True)\n",
    "example_batch_loss = loss(target_example_batch, example_batch_predictions)\n",
    "mean_loss = example_batch_loss.numpy().mean()\n",
    "print(\"Prediction shape: \", example_batch_predictions.shape, \" # (batch_size, sequence_length, vocab_size)\")\n",
    "print(\"Mean loss:        \", mean_loss)"
   ],
   "outputs": [
    {
     "output_type": "stream",
     "name": "stdout",
     "text": [
      "Prediction shape:  (64, 100, 48)  # (batch_size, sequence_length, vocab_size)\n",
      "Mean loss:         3.8713398\n"
     ]
    }
   ],
   "metadata": {}
  },
  {
   "cell_type": "code",
   "execution_count": 43,
   "source": [
    "tf.exp(mean_loss).numpy()"
   ],
   "outputs": [
    {
     "output_type": "execute_result",
     "data": {
      "text/plain": [
       "48.00666"
      ]
     },
     "metadata": {},
     "execution_count": 43
    }
   ],
   "metadata": {}
  },
  {
   "cell_type": "code",
   "execution_count": 44,
   "source": [
    "model.compile(optimizer='adam', loss=loss)"
   ],
   "outputs": [],
   "metadata": {}
  },
  {
   "cell_type": "markdown",
   "source": [
    "## Training"
   ],
   "metadata": {}
  },
  {
   "cell_type": "code",
   "execution_count": null,
   "source": [
    "EPOCHS = 20\n",
    "history = model.fit(dataset, epochs=EPOCHS)"
   ],
   "outputs": [],
   "metadata": {}
  },
  {
   "cell_type": "code",
   "execution_count": 45,
   "source": [
    "class OneStep(tf.keras.Model):\n",
    "  def __init__(self, model, chars_from_ids, ids_from_chars, temperature=1.0):\n",
    "    super().__init__()\n",
    "    self.temperature = temperature\n",
    "    self.model = model\n",
    "    self.chars_from_ids = chars_from_ids\n",
    "    self.ids_from_chars = ids_from_chars\n",
    "\n",
    "    # Create a mask to prevent \"[UNK]\" from being generated.\n",
    "    skip_ids = self.ids_from_chars(['[UNK]'])[:, None]\n",
    "    sparse_mask = tf.SparseTensor(\n",
    "        # Put a -inf at each bad index.\n",
    "        values=[-float('inf')]*len(skip_ids),\n",
    "        indices=skip_ids,\n",
    "        # Match the shape to the vocabulary\n",
    "        dense_shape=[len(ids_from_chars.get_vocabulary())])\n",
    "    self.prediction_mask = tf.sparse.to_dense(sparse_mask)\n",
    "\n",
    "  @tf.function\n",
    "  def generate_one_step(self, inputs, states=None):\n",
    "    # h_state, c_state = states\n",
    "    # Convert strings to token IDs.\n",
    "    input_chars = tf.strings.unicode_split(inputs, 'UTF-8')\n",
    "    input_ids = self.ids_from_chars(input_chars).to_tensor()\n",
    "\n",
    "    # Run the model.\n",
    "    # predicted_logits.shape is [batch, char, next_char_logits]\n",
    "    predicted_logits, h_state, c_state = self.model(inputs=input_ids, states=states,\n",
    "                                          return_state=True)\n",
    "    # Only use the last prediction.\n",
    "    predicted_logits = predicted_logits[:, -1, :]\n",
    "    predicted_logits = predicted_logits/self.temperature\n",
    "    # Apply the prediction mask: prevent \"[UNK]\" from being generated.\n",
    "    predicted_logits = predicted_logits + self.prediction_mask\n",
    "\n",
    "    # Sample the output logits to generate token IDs.\n",
    "    predicted_ids = tf.random.categorical(predicted_logits, num_samples=1)\n",
    "    predicted_ids = tf.squeeze(predicted_ids, axis=-1)\n",
    "\n",
    "    # Convert from token ids to characters\n",
    "    predicted_chars = self.chars_from_ids(predicted_ids)\n",
    "\n",
    "    # Return the characters and model state.\n",
    "    return predicted_chars, h_state, c_state"
   ],
   "outputs": [],
   "metadata": {}
  },
  {
   "cell_type": "code",
   "execution_count": 46,
   "source": [
    "sampled_indices = tf.random.categorical(example_batch_predictions[0], num_samples=1)\n",
    "sampled_indices = tf.squeeze(sampled_indices, axis=-1).numpy()\n",
    "\n",
    "print(\"Input:\\n\", text_from_ids(input_example_batch[0]).numpy().decode(\"utf-8\"))\n",
    "print()\n",
    "print(\"Next Char Predictions:\\n\", text_from_ids(sampled_indices).numpy().decode(\"utf-8\"))"
   ],
   "outputs": [
    {
     "output_type": "stream",
     "name": "stdout",
     "text": [
      "Input:\n",
      " ه شهر اندرون سوفزای[UNK]بزرگان برفتند یک سر ز جای\n",
      "پذیره شدن را بیاراست شاه[UNK]همی‌رفت با آنک بودش سپاه\n",
      "بلاش\n",
      "\n",
      "Next Char Predictions:\n",
      " غ(گعئ،[UNK]أاک«ح؟بٔ»(\n",
      "طد(ئژ)ئق\n",
      "عف[UNK]صژیو‌خشرمخمگاآرژخطسستئ،ٔجعقتشژل[UNK]شئ»»چات«ذوگ،چضم\n",
      "شؤن‌بٔیء،ثرگل»صثل[UNK]ژپفح\n"
     ]
    }
   ],
   "metadata": {}
  },
  {
   "cell_type": "code",
   "execution_count": 47,
   "source": [
    "# Save model\n",
    "save_dir = \"model-char-v3.h5\"\n",
    "# model.save_weights(save_dir)  # to store\n",
    "\n",
    "# Load model\n",
    "model.load_weights(save_dir)  # to load\n"
   ],
   "outputs": [],
   "metadata": {}
  },
  {
   "cell_type": "code",
   "execution_count": 48,
   "source": [
    "one_step_model = OneStep(model, chars_from_ids, ids_from_chars)"
   ],
   "outputs": [],
   "metadata": {}
  },
  {
   "cell_type": "markdown",
   "source": [
    "## Generate fake texts"
   ],
   "metadata": {}
  },
  {
   "cell_type": "code",
   "execution_count": 53,
   "source": [
    "start = time.time()\n",
    "next_char = tf.constant(['بگرییم چندی'])\n",
    "states = None\n",
    "zero_out = tf.keras.layers.Lambda(lambda x: tf.zeros_like(x))(next_char)\n",
    "result = [next_char]\n",
    "\n",
    "for n in range(200):\n",
    "  next_char, h_state, c_state = one_step_model.generate_one_step(next_char, states=states)\n",
    "  states = [h_state, c_state]\n",
    "  result.append(next_char)\n",
    "\n",
    "result = tf.strings.join(result)\n",
    "end = time.time()\n",
    "print(result[0].numpy().decode('utf-8'), '\\n\\n' + '_'*80)\n",
    "print('\\nRun time:', end - start)\n"
   ],
   "outputs": [
    {
     "output_type": "stream",
     "name": "stdout",
     "text": [
      "بگرییم چندی زبانم چو شیر\n",
      "بهانه همی جست با اردوان ایمن از هرچه چیست\n",
      "چنین گفت خسرو که شیرین بخورد\n",
      "بدان گونه شادم که خود جفت اویین ز رنج\n",
      "وگر گویی از رنج یابد رهایی گروه\n",
      "برفتند هرکس که دیو آورید\n",
      "بر او شد آنکس که دست \n",
      "\n",
      "________________________________________________________________________________\n",
      "\n",
      "Run time: 0.9889492988586426\n"
     ]
    }
   ],
   "metadata": {}
  }
 ],
 "metadata": {
  "orig_nbformat": 4,
  "language_info": {
   "name": "python",
   "version": "3.8.10",
   "mimetype": "text/x-python",
   "codemirror_mode": {
    "name": "ipython",
    "version": 3
   },
   "pygments_lexer": "ipython3",
   "nbconvert_exporter": "python",
   "file_extension": ".py"
  },
  "kernelspec": {
   "name": "python3",
   "display_name": "Python 3.8.10 64-bit"
  },
  "interpreter": {
   "hash": "31f2aee4e71d21fbe5cf8b01ff0e069b9275f58929596ceb00d14d90e3e16cd6"
  }
 },
 "nbformat": 4,
 "nbformat_minor": 2
}